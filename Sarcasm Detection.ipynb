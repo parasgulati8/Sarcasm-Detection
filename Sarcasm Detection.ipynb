{
 "cells": [
  {
   "cell_type": "code",
   "execution_count": 1,
   "metadata": {
    "colab": {
     "base_uri": "https://localhost:8080/",
     "height": 1000
    },
    "colab_type": "code",
    "id": "jGwXGIXvFhXW",
    "outputId": "5596f8c9-c9ef-4c3c-993d-3beb0032e4c5"
   },
   "outputs": [
    {
     "name": "stdout",
     "output_type": "stream",
     "text": [
      "--2020-04-10 14:43:00--  https://storage.googleapis.com/laurencemoroney-blog.appspot.com/sarcasm.json\n",
      "Resolving storage.googleapis.com (storage.googleapis.com)... 74.125.132.128, 2607:f8b0:4001:c05::80\n",
      "Connecting to storage.googleapis.com (storage.googleapis.com)|74.125.132.128|:443... connected.\n",
      "HTTP request sent, awaiting response... 200 OK\n",
      "Length: 5643545 (5.4M) [application/json]\n",
      "Saving to: ‘/tmp/sarcasm.json’\n",
      "\n",
      "\r",
      "/tmp/sarcasm.json     0%[                    ]       0  --.-KB/s               \r",
      "/tmp/sarcasm.json   100%[===================>]   5.38M  --.-KB/s    in 0.07s   \n",
      "\n",
      "2020-04-10 14:43:00 (75.3 MB/s) - ‘/tmp/sarcasm.json’ saved [5643545/5643545]\n",
      "\n",
      "Model: \"sequential\"\n",
      "_________________________________________________________________\n",
      "Layer (type)                 Output Shape              Param #   \n",
      "=================================================================\n",
      "embedding (Embedding)        (None, 120, 16)           16000     \n",
      "_________________________________________________________________\n",
      "bidirectional (Bidirectional (None, 64)                12544     \n",
      "_________________________________________________________________\n",
      "dense (Dense)                (None, 24)                1560      \n",
      "_________________________________________________________________\n",
      "dense_1 (Dense)              (None, 1)                 25        \n",
      "=================================================================\n",
      "Total params: 30,129\n",
      "Trainable params: 30,129\n",
      "Non-trainable params: 0\n",
      "_________________________________________________________________\n",
      "Epoch 1/50\n",
      "625/625 [==============================] - 37s 59ms/step - loss: 0.4475 - accuracy: 0.7732 - val_loss: 0.3879 - val_accuracy: 0.8204\n",
      "Epoch 2/50\n",
      "625/625 [==============================] - 36s 58ms/step - loss: 0.3608 - accuracy: 0.8336 - val_loss: 0.3802 - val_accuracy: 0.8272\n",
      "Epoch 3/50\n",
      "625/625 [==============================] - 36s 58ms/step - loss: 0.3379 - accuracy: 0.8467 - val_loss: 0.3695 - val_accuracy: 0.8317\n",
      "Epoch 4/50\n",
      "625/625 [==============================] - 36s 58ms/step - loss: 0.3173 - accuracy: 0.8572 - val_loss: 0.3756 - val_accuracy: 0.8286\n",
      "Epoch 5/50\n",
      "625/625 [==============================] - 36s 57ms/step - loss: 0.3035 - accuracy: 0.8626 - val_loss: 0.3728 - val_accuracy: 0.8311\n",
      "Epoch 6/50\n",
      "625/625 [==============================] - 36s 57ms/step - loss: 0.2929 - accuracy: 0.8716 - val_loss: 0.3944 - val_accuracy: 0.8284\n",
      "Epoch 7/50\n",
      "625/625 [==============================] - 36s 58ms/step - loss: 0.2851 - accuracy: 0.8760 - val_loss: 0.3856 - val_accuracy: 0.8275\n",
      "Epoch 8/50\n",
      "625/625 [==============================] - 36s 57ms/step - loss: 0.2782 - accuracy: 0.8781 - val_loss: 0.3993 - val_accuracy: 0.8292\n",
      "Epoch 9/50\n",
      "625/625 [==============================] - 36s 57ms/step - loss: 0.2692 - accuracy: 0.8824 - val_loss: 0.4125 - val_accuracy: 0.8255\n",
      "Epoch 10/50\n",
      "625/625 [==============================] - 36s 58ms/step - loss: 0.2614 - accuracy: 0.8881 - val_loss: 0.4008 - val_accuracy: 0.8269\n",
      "Epoch 11/50\n",
      "625/625 [==============================] - 36s 58ms/step - loss: 0.2529 - accuracy: 0.8905 - val_loss: 0.4171 - val_accuracy: 0.8271\n",
      "Epoch 12/50\n",
      "625/625 [==============================] - 36s 57ms/step - loss: 0.2462 - accuracy: 0.8931 - val_loss: 0.4221 - val_accuracy: 0.8281\n",
      "Epoch 13/50\n",
      "625/625 [==============================] - 36s 57ms/step - loss: 0.2387 - accuracy: 0.8969 - val_loss: 0.4777 - val_accuracy: 0.8223\n",
      "Epoch 14/50\n",
      "625/625 [==============================] - 36s 57ms/step - loss: 0.2315 - accuracy: 0.8982 - val_loss: 0.4452 - val_accuracy: 0.8225\n",
      "Epoch 15/50\n",
      "625/625 [==============================] - 36s 57ms/step - loss: 0.2225 - accuracy: 0.9039 - val_loss: 0.5235 - val_accuracy: 0.8214\n",
      "Epoch 16/50\n",
      "625/625 [==============================] - 36s 58ms/step - loss: 0.2143 - accuracy: 0.9079 - val_loss: 0.4601 - val_accuracy: 0.8199\n",
      "Epoch 17/50\n",
      "625/625 [==============================] - 36s 57ms/step - loss: 0.2085 - accuracy: 0.9088 - val_loss: 0.5489 - val_accuracy: 0.8170\n",
      "Epoch 18/50\n",
      "625/625 [==============================] - 36s 57ms/step - loss: 0.2022 - accuracy: 0.9123 - val_loss: 0.5513 - val_accuracy: 0.8143\n",
      "Epoch 19/50\n",
      "625/625 [==============================] - 36s 57ms/step - loss: 0.1956 - accuracy: 0.9161 - val_loss: 0.5230 - val_accuracy: 0.8150\n",
      "Epoch 20/50\n",
      "625/625 [==============================] - 36s 57ms/step - loss: 0.1878 - accuracy: 0.9183 - val_loss: 0.5941 - val_accuracy: 0.8059\n",
      "Epoch 21/50\n",
      "625/625 [==============================] - 36s 58ms/step - loss: 0.1814 - accuracy: 0.9223 - val_loss: 0.5719 - val_accuracy: 0.8116\n",
      "Epoch 22/50\n",
      "625/625 [==============================] - 36s 57ms/step - loss: 0.1735 - accuracy: 0.9255 - val_loss: 0.6755 - val_accuracy: 0.8103\n",
      "Epoch 23/50\n",
      "625/625 [==============================] - 36s 57ms/step - loss: 0.1679 - accuracy: 0.9276 - val_loss: 0.7097 - val_accuracy: 0.8098\n",
      "Epoch 24/50\n",
      "625/625 [==============================] - 36s 57ms/step - loss: 0.1606 - accuracy: 0.9313 - val_loss: 0.6905 - val_accuracy: 0.8100\n",
      "Epoch 25/50\n",
      "625/625 [==============================] - 36s 57ms/step - loss: 0.1578 - accuracy: 0.9321 - val_loss: 0.7027 - val_accuracy: 0.8091\n",
      "Epoch 26/50\n",
      "625/625 [==============================] - 36s 57ms/step - loss: 0.1484 - accuracy: 0.9383 - val_loss: 0.8061 - val_accuracy: 0.8107\n",
      "Epoch 27/50\n",
      "625/625 [==============================] - 36s 58ms/step - loss: 0.1450 - accuracy: 0.9385 - val_loss: 0.7953 - val_accuracy: 0.8056\n",
      "Epoch 28/50\n",
      "625/625 [==============================] - 36s 58ms/step - loss: 0.1394 - accuracy: 0.9410 - val_loss: 0.7991 - val_accuracy: 0.8074\n",
      "Epoch 29/50\n",
      "625/625 [==============================] - 36s 57ms/step - loss: 0.1322 - accuracy: 0.9442 - val_loss: 0.9075 - val_accuracy: 0.8009\n",
      "Epoch 30/50\n",
      "625/625 [==============================] - 36s 57ms/step - loss: 0.1275 - accuracy: 0.9449 - val_loss: 0.9297 - val_accuracy: 0.8047\n",
      "Epoch 31/50\n",
      "625/625 [==============================] - 36s 57ms/step - loss: 0.1250 - accuracy: 0.9475 - val_loss: 0.9128 - val_accuracy: 0.7998\n",
      "Epoch 32/50\n",
      "625/625 [==============================] - 36s 57ms/step - loss: 0.1205 - accuracy: 0.9499 - val_loss: 1.0130 - val_accuracy: 0.8003\n",
      "Epoch 33/50\n",
      "625/625 [==============================] - 36s 57ms/step - loss: 0.1152 - accuracy: 0.9507 - val_loss: 1.0320 - val_accuracy: 0.7971\n",
      "Epoch 34/50\n",
      "625/625 [==============================] - 36s 57ms/step - loss: 0.1098 - accuracy: 0.9535 - val_loss: 1.0598 - val_accuracy: 0.7962\n",
      "Epoch 35/50\n",
      "625/625 [==============================] - 36s 57ms/step - loss: 0.1055 - accuracy: 0.9556 - val_loss: 1.0723 - val_accuracy: 0.7942\n",
      "Epoch 36/50\n",
      "625/625 [==============================] - 36s 57ms/step - loss: 0.1006 - accuracy: 0.9600 - val_loss: 1.2069 - val_accuracy: 0.7942\n",
      "Epoch 37/50\n",
      "625/625 [==============================] - 36s 57ms/step - loss: 0.0969 - accuracy: 0.9612 - val_loss: 1.2877 - val_accuracy: 0.7928\n",
      "Epoch 38/50\n",
      "625/625 [==============================] - 36s 57ms/step - loss: 0.0995 - accuracy: 0.9593 - val_loss: 1.1368 - val_accuracy: 0.7983\n",
      "Epoch 39/50\n",
      "625/625 [==============================] - 36s 57ms/step - loss: 0.0903 - accuracy: 0.9631 - val_loss: 1.3319 - val_accuracy: 0.7934\n",
      "Epoch 40/50\n",
      "625/625 [==============================] - 36s 58ms/step - loss: 0.0865 - accuracy: 0.9652 - val_loss: 1.4148 - val_accuracy: 0.7939\n",
      "Epoch 41/50\n",
      "625/625 [==============================] - 36s 58ms/step - loss: 0.0850 - accuracy: 0.9638 - val_loss: 1.3953 - val_accuracy: 0.7894\n",
      "Epoch 42/50\n",
      "625/625 [==============================] - 36s 58ms/step - loss: 0.0830 - accuracy: 0.9665 - val_loss: 1.4477 - val_accuracy: 0.7918\n",
      "Epoch 43/50\n",
      "625/625 [==============================] - 36s 58ms/step - loss: 0.0826 - accuracy: 0.9656 - val_loss: 1.5579 - val_accuracy: 0.7918\n",
      "Epoch 44/50\n",
      "625/625 [==============================] - 36s 58ms/step - loss: 0.0794 - accuracy: 0.9668 - val_loss: 1.4460 - val_accuracy: 0.7961\n",
      "Epoch 45/50\n",
      "625/625 [==============================] - 36s 58ms/step - loss: 0.0759 - accuracy: 0.9683 - val_loss: 1.5689 - val_accuracy: 0.7934\n",
      "Epoch 46/50\n",
      "625/625 [==============================] - 36s 58ms/step - loss: 0.0729 - accuracy: 0.9705 - val_loss: 1.6664 - val_accuracy: 0.7886\n",
      "Epoch 47/50\n",
      "625/625 [==============================] - 36s 58ms/step - loss: 0.0665 - accuracy: 0.9724 - val_loss: 1.6464 - val_accuracy: 0.7986\n",
      "Epoch 48/50\n",
      "625/625 [==============================] - 36s 58ms/step - loss: 0.0723 - accuracy: 0.9695 - val_loss: 1.6076 - val_accuracy: 0.7951\n",
      "Epoch 49/50\n",
      "625/625 [==============================] - 36s 58ms/step - loss: 0.0646 - accuracy: 0.9726 - val_loss: 1.7286 - val_accuracy: 0.7956\n",
      "Epoch 50/50\n",
      "625/625 [==============================] - 36s 58ms/step - loss: 0.0661 - accuracy: 0.9733 - val_loss: 1.6546 - val_accuracy: 0.7962\n"
     ]
    }
   ],
   "source": [
    "import json\n",
    "import tensorflow as tf\n",
    "import numpy as np\n",
    "\n",
    "from tensorflow.keras.preprocessing.text import Tokenizer\n",
    "from tensorflow.keras.preprocessing.sequence import pad_sequences\n",
    "\n",
    "!wget --no-check-certificate \\\n",
    "    https://storage.googleapis.com/laurencemoroney-blog.appspot.com/sarcasm.json \\\n",
    "    -O /tmp/sarcasm.json\n",
    "\n",
    "vocab_size = 1000\n",
    "embedding_dim = 16\n",
    "max_length = 120\n",
    "trunc_type='post'\n",
    "padding_type='post'\n",
    "oov_tok = \"<OOV>\"\n",
    "training_size = 20000\n",
    "\n",
    "\n",
    "with open(\"/tmp/sarcasm.json\", 'r') as f:\n",
    "    datastore = json.load(f)\n",
    "\n",
    "\n",
    "sentences = []\n",
    "labels = []\n",
    "urls = []\n",
    "for item in datastore:\n",
    "    sentences.append(item['headline'])\n",
    "    labels.append(item['is_sarcastic'])\n",
    "\n",
    "training_sentences = sentences[0:training_size]\n",
    "testing_sentences = sentences[training_size:]\n",
    "training_labels = labels[0:training_size]\n",
    "testing_labels = labels[training_size:]\n",
    "\n",
    "tokenizer = Tokenizer(num_words=vocab_size, oov_token=oov_tok)\n",
    "tokenizer.fit_on_texts(training_sentences)\n",
    "\n",
    "word_index = tokenizer.word_index\n",
    "\n",
    "training_sequences = tokenizer.texts_to_sequences(training_sentences)\n",
    "training_padded = pad_sequences(training_sequences, maxlen=max_length, padding=padding_type, truncating=trunc_type)\n",
    "\n",
    "testing_sequences = tokenizer.texts_to_sequences(testing_sentences)\n",
    "testing_padded = pad_sequences(testing_sequences, maxlen=max_length, padding=padding_type, truncating=trunc_type)\n",
    "\n",
    "model = tf.keras.Sequential([\n",
    "    tf.keras.layers.Embedding(vocab_size, embedding_dim, input_length=max_length),\n",
    "    tf.keras.layers.Bidirectional(tf.keras.layers.LSTM(32)),\n",
    "    tf.keras.layers.Dense(24, activation='relu'),\n",
    "    tf.keras.layers.Dense(1, activation='sigmoid')\n",
    "])\n",
    "model.compile(loss='binary_crossentropy',optimizer='adam',metrics=['accuracy'])\n",
    "model.summary()\n",
    "\n",
    "num_epochs = 50\n",
    "training_padded = np.array(training_padded)\n",
    "training_labels = np.array(training_labels)\n",
    "testing_padded = np.array(testing_padded)\n",
    "testing_labels = np.array(testing_labels)\n",
    "history = model.fit(training_padded, training_labels, epochs=num_epochs, validation_data=(testing_padded, testing_labels), verbose=1)\n"
   ]
  },
  {
   "cell_type": "code",
   "execution_count": 3,
   "metadata": {
    "colab": {
     "base_uri": "https://localhost:8080/",
     "height": 541
    },
    "colab_type": "code",
    "id": "g9DC6dmLF8DC",
    "outputId": "b6e35178-2e75-4b64-df26-b9acce75931e"
   },
   "outputs": [
    {
     "data": {
      "image/png": "[encoded data removed]",
      "text/plain": [
       "<Figure size 432x288 with 1 Axes>"
      ]
     },
     "metadata": {
      "tags": []
     },
     "output_type": "display_data"
    },
    {
     "data": {
      "image/png": "[encoded data removed]",
      "text/plain": [
       "<Figure size 432x288 with 1 Axes>"
      ]
     },
     "metadata": {
      "tags": []
     },
     "output_type": "display_data"
    }
   ],
   "source": [
    "import matplotlib.pyplot as plt\n",
    "\n",
    "\n",
    "def plot_graphs(history, string):\n",
    "  plt.plot(history.history[string])\n",
    "  plt.plot(history.history['val_'+string])\n",
    "  plt.xlabel(\"Epochs\")\n",
    "  plt.ylabel(string)\n",
    "  plt.legend([string, 'val_'+string])\n",
    "  plt.show()\n",
    "\n",
    "plot_graphs(history, 'accuracy')\n",
    "plot_graphs(history, 'loss')"
   ]
  },
  {
   "cell_type": "code",
   "execution_count": 0,
   "metadata": {
    "colab": {},
    "colab_type": "code",
    "id": "7ZEZIUppGhdi"
   },
   "outputs": [],
   "source": [
    "model.save(\"test.h5\")"
   ]
  },
  {
   "cell_type": "code",
   "execution_count": 1,
   "metadata": {},
   "outputs": [
    {
     "name": "stdout",
     "output_type": "stream",
     "text": [
      "C:\\Users\\Paras Gulati\n"
     ]
    }
   ],
   "source": [
    "cd "
   ]
  }
 ],
 "metadata": {
  "accelerator": "GPU",
  "colab": {
   "collapsed_sections": [],
   "name": "Course 3 - Week 3 - Lesson 2.ipynb",
   "provenance": [],
   "toc_visible": true
  },
  "kernelspec": {
   "display_name": "Python 3",
   "language": "python",
   "name": "python3"
  },
  "language_info": {
   "codemirror_mode": {
    "name": "ipython",
    "version": 3
   },
   "file_extension": ".py",
   "mimetype": "text/x-python",
   "name": "python",
   "nbconvert_exporter": "python",
   "pygments_lexer": "ipython3",
   "version": "3.7.3"
  }
 },
 "nbformat": 4,
 "nbformat_minor": 1
}
